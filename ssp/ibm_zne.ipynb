{
 "cells": [
  {
   "cell_type": "code",
   "execution_count": 2,
   "id": "b5eb52a9",
   "metadata": {},
   "outputs": [
    {
     "name": "stdout",
     "output_type": "stream",
     "text": [
      "Collecting pylatexenc\n",
      "  Using cached pylatexenc-2.10-py3-none-any.whl\n",
      "Installing collected packages: pylatexenc\n",
      "Successfully installed pylatexenc-2.10\n",
      "Note: you may need to restart the kernel to use updated packages.\n"
     ]
    }
   ],
   "source": [
    "pip install pylatexenc"
   ]
  },
  {
   "cell_type": "code",
   "execution_count": 6,
   "id": "df03adf1",
   "metadata": {},
   "outputs": [
    {
     "data": {
      "text/html": [
       "<pre style=\"word-wrap: normal;white-space: pre;background: #fff0;line-height: 1.1;font-family: &quot;Courier New&quot;,Courier,monospace\">     ┌──────────┐┌───────────┐     ┌───────────┐┌───────────┐             \n",
       "q_0: ┤ Ry(θ[0]) ├┤ Rz(θ[10]) ├──■──┤ Ry(θ[20]) ├┤ Rz(θ[30]) ├─────────────\n",
       "     ├──────────┤├───────────┤┌─┴─┐└───────────┘├───────────┤┌───────────┐\n",
       "q_1: ┤ Ry(θ[1]) ├┤ Rz(θ[11]) ├┤ X ├──────■──────┤ Ry(θ[21]) ├┤ Rz(θ[31]) ├\n",
       "     ├──────────┤├───────────┤└───┘    ┌─┴─┐    ├───────────┤├───────────┤\n",
       "q_2: ┤ Ry(θ[2]) ├┤ Rz(θ[12]) ├──■──────┤ X ├────┤ Ry(θ[22]) ├┤ Rz(θ[32]) ├\n",
       "     ├──────────┤├───────────┤┌─┴─┐    └───┘    ├───────────┤├───────────┤\n",
       "q_3: ┤ Ry(θ[3]) ├┤ Rz(θ[13]) ├┤ X ├──────■──────┤ Ry(θ[23]) ├┤ Rz(θ[33]) ├\n",
       "     ├──────────┤├───────────┤└───┘    ┌─┴─┐    ├───────────┤├───────────┤\n",
       "q_4: ┤ Ry(θ[4]) ├┤ Rz(θ[14]) ├──■──────┤ X ├────┤ Ry(θ[24]) ├┤ Rz(θ[34]) ├\n",
       "     ├──────────┤├───────────┤┌─┴─┐    └───┘    ├───────────┤├───────────┤\n",
       "q_5: ┤ Ry(θ[5]) ├┤ Rz(θ[15]) ├┤ X ├──────■──────┤ Ry(θ[25]) ├┤ Rz(θ[35]) ├\n",
       "     ├──────────┤├───────────┤└───┘    ┌─┴─┐    ├───────────┤├───────────┤\n",
       "q_6: ┤ Ry(θ[6]) ├┤ Rz(θ[16]) ├──■──────┤ X ├────┤ Ry(θ[26]) ├┤ Rz(θ[36]) ├\n",
       "     ├──────────┤├───────────┤┌─┴─┐    └───┘    ├───────────┤├───────────┤\n",
       "q_7: ┤ Ry(θ[7]) ├┤ Rz(θ[17]) ├┤ X ├──────■──────┤ Ry(θ[27]) ├┤ Rz(θ[37]) ├\n",
       "     ├──────────┤├───────────┤└───┘    ┌─┴─┐    ├───────────┤├───────────┤\n",
       "q_8: ┤ Ry(θ[8]) ├┤ Rz(θ[18]) ├──■──────┤ X ├────┤ Ry(θ[28]) ├┤ Rz(θ[38]) ├\n",
       "     ├──────────┤├───────────┤┌─┴─┐┌───┴───┴───┐├───────────┤└───────────┘\n",
       "q_9: ┤ Ry(θ[9]) ├┤ Rz(θ[19]) ├┤ X ├┤ Ry(θ[29]) ├┤ Rz(θ[39]) ├─────────────\n",
       "     └──────────┘└───────────┘└───┘└───────────┘└───────────┘             </pre>"
      ],
      "text/plain": [
       "     ┌──────────┐┌───────────┐     ┌───────────┐┌───────────┐             \n",
       "q_0: ┤ Ry(θ[0]) ├┤ Rz(θ[10]) ├──■──┤ Ry(θ[20]) ├┤ Rz(θ[30]) ├─────────────\n",
       "     ├──────────┤├───────────┤┌─┴─┐└───────────┘├───────────┤┌───────────┐\n",
       "q_1: ┤ Ry(θ[1]) ├┤ Rz(θ[11]) ├┤ X ├──────■──────┤ Ry(θ[21]) ├┤ Rz(θ[31]) ├\n",
       "     ├──────────┤├───────────┤└───┘    ┌─┴─┐    ├───────────┤├───────────┤\n",
       "q_2: ┤ Ry(θ[2]) ├┤ Rz(θ[12]) ├──■──────┤ X ├────┤ Ry(θ[22]) ├┤ Rz(θ[32]) ├\n",
       "     ├──────────┤├───────────┤┌─┴─┐    └───┘    ├───────────┤├───────────┤\n",
       "q_3: ┤ Ry(θ[3]) ├┤ Rz(θ[13]) ├┤ X ├──────■──────┤ Ry(θ[23]) ├┤ Rz(θ[33]) ├\n",
       "     ├──────────┤├───────────┤└───┘    ┌─┴─┐    ├───────────┤├───────────┤\n",
       "q_4: ┤ Ry(θ[4]) ├┤ Rz(θ[14]) ├──■──────┤ X ├────┤ Ry(θ[24]) ├┤ Rz(θ[34]) ├\n",
       "     ├──────────┤├───────────┤┌─┴─┐    └───┘    ├───────────┤├───────────┤\n",
       "q_5: ┤ Ry(θ[5]) ├┤ Rz(θ[15]) ├┤ X ├──────■──────┤ Ry(θ[25]) ├┤ Rz(θ[35]) ├\n",
       "     ├──────────┤├───────────┤└───┘    ┌─┴─┐    ├───────────┤├───────────┤\n",
       "q_6: ┤ Ry(θ[6]) ├┤ Rz(θ[16]) ├──■──────┤ X ├────┤ Ry(θ[26]) ├┤ Rz(θ[36]) ├\n",
       "     ├──────────┤├───────────┤┌─┴─┐    └───┘    ├───────────┤├───────────┤\n",
       "q_7: ┤ Ry(θ[7]) ├┤ Rz(θ[17]) ├┤ X ├──────■──────┤ Ry(θ[27]) ├┤ Rz(θ[37]) ├\n",
       "     ├──────────┤├───────────┤└───┘    ┌─┴─┐    ├───────────┤├───────────┤\n",
       "q_8: ┤ Ry(θ[8]) ├┤ Rz(θ[18]) ├──■──────┤ X ├────┤ Ry(θ[28]) ├┤ Rz(θ[38]) ├\n",
       "     ├──────────┤├───────────┤┌─┴─┐┌───┴───┴───┐├───────────┤└───────────┘\n",
       "q_9: ┤ Ry(θ[9]) ├┤ Rz(θ[19]) ├┤ X ├┤ Ry(θ[29]) ├┤ Rz(θ[39]) ├─────────────\n",
       "     └──────────┘└───────────┘└───┘└───────────┘└───────────┘             "
      ]
     },
     "execution_count": 6,
     "metadata": {},
     "output_type": "execute_result"
    }
   ],
   "source": [
    "from qiskit.circuit.library import EfficientSU2\n",
    "n_qubits=10\n",
    "reps=1\n",
    "\n",
    "circuit=EfficientSU2(n_qubits,entanglement='pairwise', reps=reps)\n",
    "\n",
    "circuit.decompose().draw(scale=0.7)"
   ]
  },
  {
   "cell_type": "code",
   "execution_count": null,
   "id": "0e66735a",
   "metadata": {},
   "outputs": [],
   "source": [
    "from qiskit_ibm_runtime import QiskitRuntimeService\n",
    "\n",
    "service=QiskitRuntimeService()\n",
    "\n",
    "backend=service.least_busy(min_num_qubits=127)"
   ]
  },
  {
   "cell_type": "code",
   "execution_count": null,
   "id": "b09c629b",
   "metadata": {},
   "outputs": [],
   "source": [
    "from qiskit.transpiler.preset_passmanagers import generate_preset_pass_manager\n",
    "\n",
    "pass_manager=generate_preset_pass_manager(optimization_level=3,backend=backend,seed_transpiler=1234)\n",
    "\n",
    "isa_circuit=pass_manager.run(mirror_circuit)\n",
    "\n",
    "isa_circuit.draw('mpl',idle_wires=False, scale=0.7,fold=-1)"
   ]
  }
 ],
 "metadata": {
  "kernelspec": {
   "display_name": "venv",
   "language": "python",
   "name": "python3"
  },
  "language_info": {
   "codemirror_mode": {
    "name": "ipython",
    "version": 3
   },
   "file_extension": ".py",
   "mimetype": "text/x-python",
   "name": "python",
   "nbconvert_exporter": "python",
   "pygments_lexer": "ipython3",
   "version": "3.12.2"
  }
 },
 "nbformat": 4,
 "nbformat_minor": 5
}
